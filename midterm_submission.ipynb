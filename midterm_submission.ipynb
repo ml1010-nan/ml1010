{
 "cells": [
  {
   "cell_type": "markdown",
   "metadata": {},
   "source": [
    "# Stock Price Prediction"
   ]
  },
  {
   "cell_type": "markdown",
   "metadata": {},
   "source": [
    "## 1. Problem Definition"
   ]
  },
  {
   "cell_type": "markdown",
   "metadata": {},
   "source": [
    "Stock trading is always an attractive and interesting investment channel for a lot of people.\n",
    "However, predicting the trend of stock and identify the best time to buy, sell or hold stocks is\n",
    "always a very tricky traditional question. Many people, from generation to generation, have tried\n",
    "to solve this problem. People have tried a lot to find a pattern in stock price as well as a general\n",
    "equation for stock’s trend. However, it is so difficult because stock price is dependent to many\n",
    "factors from macro economy, international economy, news... to stock trading history price and\n",
    "the company’s health itself."
   ]
  },
  {
   "cell_type": "markdown",
   "metadata": {},
   "source": [
    "There are 2 famous traditional methods in financial field to analysis stock trend: fundamental\n",
    "analysis which concentrates on the company’s heath ratio and technical analysis which doesn’t\n",
    "care about the company’s health but concentrates on the stock trading history to find the trend\n",
    "pattern. Each method can be successful with some stocks but failed for others. Until now, a lot of\n",
    "people in stock trading environment still use these 2 methods as a reference for their stock trading\n",
    "decision but the effectiveness of those methods is still a big question."
   ]
  },
  {
   "cell_type": "markdown",
   "metadata": {},
   "source": [
    "With the developing of ML, there are some studies on applying machine learning on stock trend\n",
    "predicting but all of them just concentrated on stock price history, some reported on the\n",
    "sentiment analysis on stock trading but there is no holistic view and approach to study all affected\n",
    "factors to stock market and study about them. And so far, there is no report about applying these\n",
    "studies in real-life stock trading."
   ]
  },
  {
   "cell_type": "markdown",
   "metadata": {},
   "source": [
    "Therefore, finding a holistic solution that combines fundamental analysis, technical analysis,\n",
    "related factors, stock price history and machine learning in order to produce a powerful model\n",
    "and tool to predict stock trend is the big challenge we want to address in this project."
   ]
  },
  {
   "cell_type": "markdown",
   "metadata": {},
   "source": [
    "## 2. Business Understanding"
   ]
  },
  {
   "cell_type": "markdown",
   "metadata": {},
   "source": [
    "By collecting all data sources from financial news, reviews, social media, domestic economy\n",
    "indicators, international economy indicator, market indicator, stock price history, stock\n",
    "fundamental ratio and then apply machine learning techniques including text mining, sentiment\n",
    "analysis, time series process and classification models, the project tries to implement a\n",
    "holistic solution to solve the stock prediction problem and build a high performance model that can be used for stock trading."
   ]
  },
  {
   "cell_type": "markdown",
   "metadata": {},
   "source": [
    "We are going tu use financial news and social media comments to mine sentiment analysis as a time series process. The sentiment analysis will be added features to stocks techn ical indicators. By collecting all data sources from financial news, reviews, social media, domestic economy\n",
    "indicators, international economy indicator, market indicator, stock price history, stock\n",
    "fundamental ratio and then apply machine learning techniques including text mining, sentiment\n",
    "analysis, time series process and classification models, the project is promising implement a\n",
    "holistic solution to solve the stock prediction problem and build up a model with high\n",
    "performance to apply in stock trading application.\n",
    "\n",
    "Using this approach for feature generation we hope to have capture most factors tat could influence stock prices.\n",
    "\n",
    "Besides technical analysis we are also going to present meaningful data that can be used as reference in the decision making process."
   ]
  },
  {
   "cell_type": "markdown",
   "metadata": {},
   "source": [
    "## 3. Data Collection"
   ]
  },
  {
   "cell_type": "markdown",
   "metadata": {},
   "source": [
    "### a) Twitter Web Scraper"
   ]
  },
  {
   "cell_type": "markdown",
   "metadata": {},
   "source": [
    "Our Twitter web scraper is using __\"pattern\"__ library to get data from Twitter and apply sentiment analysis to tweets collected online. __\"Pattern\"__ is a very versatile library that, beside sentiment analysis also has interfaces to major web entities. It can be very useful when scraping data. The library outputs two indicators related to sentiment analysis. First indicator is the sentiment - a value ranging between -1 and +1 for negative/ positive sentiment. Second indicator is subjectivity - a value ranging between 0 and 1."
   ]
  },
  {
   "cell_type": "code",
   "execution_count": 1,
   "metadata": {},
   "outputs": [],
   "source": [
    "from __future__ import print_function\n",
    "from __future__ import unicode_literals\n",
    "\n",
    "from builtins import str, bytes, dict, int\n",
    "from builtins import range\n",
    "\n",
    "from pattern.web import Twitter, hashtags\n",
    "from pattern.db import Datasheet, pprint, pd\n",
    "from pattern.en import sentiment, polarity, subjectivity, positive\n",
    "\n",
    "try:\n",
    "    # We'll store tweets in a Datasheet.\n",
    "    # A Datasheet is a table of rows and columns that can be exported as a CSV-file.\n",
    "    # In the first column, we'll store a unique id for each tweet.\n",
    "    # We only want to add the latest tweets, i.e., those we haven't seen yet.\n",
    "    # With an index on the first column we can quickly check if an id already exists.\n",
    "    # The pd() function returns the parent directory of this script + any given path.\n",
    "    table = Datasheet.load(pd(\"tweets.csv\"))\n",
    "    index = set(table.columns[0])\n",
    "except:\n",
    "    table = Datasheet()\n",
    "    index = set()\n",
    "\n",
    "engine = Twitter(language=\"en\")\n"
   ]
  },
  {
   "cell_type": "code",
   "execution_count": 2,
   "metadata": {},
   "outputs": [
    {
     "name": "stdout",
     "output_type": "stream",
     "text": [
      "Sentiment for tweet ID:  1071765450873278465  is  (0.0, 0.1)\n",
      "Sentiment for tweet ID:  1071765431067779073  is  (0.06818181818181818, 0.22727272727272727)\n",
      "Sentiment for tweet ID:  1071765168860880897  is  (0.75, 0.4)\n",
      "Sentiment for tweet ID:  1071764863628664833  is  (0.0, 0.0)\n",
      "Sentiment for tweet ID:  1071764809887162368  is  (0.4, 0.4)\n",
      "Sentiment for tweet ID:  1071764695810371585  is  (-0.1, 0.3)\n",
      "Sentiment for tweet ID:  1071764462988800000  is  (0.24659090909090908, 0.4636363636363636)\n",
      "Sentiment for tweet ID:  1071764285137870850  is  (0.0, 0.0)\n",
      "Sentiment for tweet ID:  1071764224890814464  is  (0.0, 0.0)\n"
     ]
    }
   ],
   "source": [
    "prev = '1071765537749917696'\n",
    "\n",
    "counter = 0\n",
    "#set the counter to 1 - this will give us only one tweet as and example\n",
    "while counter < 1:\n",
    "\n",
    "    counter += 1\n",
    "#normally we will have to wait between queries because Twitter will not accept more than a \n",
    "#certain number of queries per hour\n",
    "#    time.sleep(60)\n",
    "    for tweet in engine.search(\"#Apple\", start=prev, count=10, cached=False):\n",
    "#        print(tweet.id)\n",
    "#        print(tweet.text)\n",
    "#        print(tweet.date)\n",
    "        tweet_sentiment = sentiment(tweet.text)\n",
    "        print(\"Sentiment for tweet ID: \", tweet.id, \" is \", tweet_sentiment)\n",
    "        \n",
    "        if len(table) == 0 or tweet.id not in index:\n",
    "             \n",
    "            table.append([tweet.id, tweet.date, tweet.text, tweet_sentiment])\n",
    "            index.add(tweet.id)\n",
    "            \n",
    "        prev = tweet.id\n",
    "        \n",
    "        \n",
    "        \n"
   ]
  },
  {
   "cell_type": "markdown",
   "metadata": {},
   "source": [
    "### b) Nasdaq News Scraper"
   ]
  },
  {
   "cell_type": "markdown",
   "metadata": {},
   "source": [
    "Unlike Twitter Nasdaq will let you scrape data at high frequency but the downside is that if you ask for too much data at relatively high frequency you will get banned from scraping Nasdaq data (we've learned this the hard way). The only solution to this is use a VPN that will allow you to change your IP address in case you get banned.\n",
    "\n",
    "We used the __\"BeatifulSoup\"__ package to get news articles from Nasdaq then, after inspecting the article in a web browser, we extracted only the parts that were interesting for us.\n",
    "\n",
    "Once the text has been extracted we used the same __\"pattern\"__ library to do sentiment analysis on the article's text."
   ]
  },
  {
   "cell_type": "code",
   "execution_count": 3,
   "metadata": {},
   "outputs": [
    {
     "name": "stdout",
     "output_type": "stream",
     "text": [
      "https://www.nasdaq.com/article/why-johnson-johnson-costco-and-apple-slumped-today-cm1069773\n",
      "Article  https://www.nasdaq.com/article/why-johnson-johnson-costco-and-apple-slumped-today-cm1069773  from  December 14, 2018, 04:55:38 PM EDT  sentiment  (0.15434523809523806, 0.43101190476190465)\n",
      "https://www.nasdaq.com/article/apple-stock-below-170-time-to-buy-cm1069981\n",
      "Article  https://www.nasdaq.com/article/apple-stock-below-170-time-to-buy-cm1069981  from  December 16, 2018, 11:05:00 AM EDT  sentiment  (0.16015345765345765, 0.49340936840936833)\n",
      "https://www.nasdaq.com/article/3-augmented-reality-stocks-to-buy-in-2019-cm1069924\n",
      "Article  https://www.nasdaq.com/article/3-augmented-reality-stocks-to-buy-in-2019-cm1069924  from  December 15, 2018, 05:00:00 PM EDT  sentiment  (0.18964947089947096, 0.48491696061140493)\n",
      "https://www.nasdaq.com/article/tech-stocks-this-week-apple-slides-roku-gets-slammed-and-more-cm1069940\n",
      "Article  https://www.nasdaq.com/article/tech-stocks-this-week-apple-slides-roku-gets-slammed-and-more-cm1069940  from  December 15, 2018, 09:41:00 PM EDT  sentiment  (0.1796736849009576, 0.4055310346219436)\n",
      "https://www.nasdaq.com/article/facebook-watch-could-get-a-boost-from-hbo-cm1069925\n",
      "Article  https://www.nasdaq.com/article/facebook-watch-could-get-a-boost-from-hbo-cm1069925  from  December 15, 2018, 05:00:00 PM EDT  sentiment  (0.12652161271564255, 0.47079698908057105)\n",
      "https://www.nasdaq.com/article/how-data-is-making-the-us-stock-market-open-for-all-investors-cm998274\n",
      "Article  https://www.nasdaq.com/article/how-data-is-making-the-us-stock-market-open-for-all-investors-cm998274  from  July 27, 2018, 02:31:12 PM EDT  sentiment  (0.3146464646464647, 0.5817845117845118)\n",
      "https://www.nasdaq.com/article/are-collaborative-robots-an-opportunity-or-a-threat-for-manufacturing-cm1069915\n",
      "Article  https://www.nasdaq.com/article/are-collaborative-robots-an-opportunity-or-a-threat-for-manufacturing-cm1069915  from  December 15, 2018, 12:06:00 PM EDT  sentiment  (0.10995556496643448, 0.45785958968567664)\n",
      "https://www.nasdaq.com/article/apple-stock-could-double-over-3-years-cm1069955\n",
      "Article  https://www.nasdaq.com/article/apple-stock-could-double-over-3-years-cm1069955  from  December 16, 2018, 07:10:00 AM EDT  sentiment  (0.22537038451744337, 0.48291902215431604)\n",
      "https://www.nasdaq.com/article/friday-apple-rumors-apple-signs-deal-for-exclusive-peanuts-content-cm1069829\n",
      "Article  https://www.nasdaq.com/article/friday-apple-rumors-apple-signs-deal-for-exclusive-peanuts-content-cm1069829  from  December 14, 2018, 03:21:00 PM EDT  sentiment  (0.06922799422799424, 0.31673881673881676)\n",
      "https://www.nasdaq.com/article/these-jaw-dropping-facts-will-change-your-mind-about-the-internet-of-things-cm1069982\n",
      "Article  https://www.nasdaq.com/article/these-jaw-dropping-facts-will-change-your-mind-about-the-internet-of-things-cm1069982  from  December 16, 2018, 10:26:00 AM EDT  sentiment  (0.2105886243386245, 0.5089682539682537)\n",
      "https://www.nasdaq.com/article/apples-original-content-ambitions-are-growing-cm1069860\n",
      "Article  https://www.nasdaq.com/article/apples-original-content-ambitions-are-growing-cm1069860  from  December 15, 2018, 07:27:00 AM EDT  sentiment  (0.20922619047619043, 0.4914565826330531)\n",
      "https://www.nasdaq.com/article/here-are-3-important-things-to-know-about-your-401k-cm1068669\n",
      "Article  https://www.nasdaq.com/article/here-are-3-important-things-to-know-about-your-401k-cm1068669  from  December 13, 2018, 06:25:00 AM EDT  sentiment  (0.1848845598845599, 0.4437384044526903)\n",
      "https://www.nasdaq.com/article/3-top-blockchain-stocks-to-watch-in-december-cm1069290\n",
      "Article  https://www.nasdaq.com/article/3-top-blockchain-stocks-to-watch-in-december-cm1069290  from  December 13, 2018, 09:00:00 PM EDT  sentiment  (0.17536466211165003, 0.48457118517359465)\n"
     ]
    }
   ],
   "source": [
    "from __future__ import print_function\n",
    "from __future__ import unicode_literals\n",
    "\n",
    "from pattern.db import Datasheet, pprint, pd\n",
    "from pattern.en import sentiment, polarity, subjectivity, positive\n",
    "\n",
    "import requests\n",
    "from bs4 import BeautifulSoup\n",
    "\n",
    "counter = 0\n",
    "\n",
    "'''Package what we did above into a function'''\n",
    "def scrape_news_text(news_url):\n",
    "    \n",
    "    global counter\n",
    " \n",
    "    news_html = requests.get(news_url).content\n",
    "    \n",
    "#    print(news_html)\n",
    " \n",
    "    '''convert html to BeautifulSoup object'''\n",
    "    news_soup = BeautifulSoup(news_html , 'lxml')\n",
    "# soup.find(\"div\", {\"id\": \"articlebody\"})\n",
    "#    paragraphs = [par.text for par in news_soup.find_all('p')]\n",
    "#    news_text = '\\n'.join(paragraphs)\n",
    "\n",
    "#    print(news_soup.find(\"div\", {\"id\": \"articleText\"}))\n",
    "    \n",
    "    \n",
    "    date_object = news_soup.find(itemprop=\"datePublished\")\n",
    "    news_object = news_soup.find(\"div\", {\"id\": \"articleText\"})\n",
    "    \n",
    "    if date_object is None:\n",
    "        return \"  \"\n",
    "    \n",
    "    if news_object is None:\n",
    "        return \"   \"\n",
    "\n",
    "\n",
    "    news_date = date_object.get_text()#   find(\"div\", {\"id\": \"articleText\"}).text\n",
    "    news_text = news_object.text\n",
    "    \n",
    "#    print(news_date)\n",
    "#    print(news_text)\n",
    "    print(news_url)\n",
    "    \n",
    "    try:\n",
    "        # We'll store tweets in a Datasheet.\n",
    "        # A Datasheet is a table of rows and columns that can be exported as a CSV-file.\n",
    "        # In the first column, we'll store a unique id for each tweet.\n",
    "        # We only want to add the latest tweets, i.e., those we haven't seen yet.\n",
    "        # With an index on the first column we can quickly check if an id already exists.\n",
    "        # The pd() function returns the parent directory of this script + any given path.\n",
    "        table = Datasheet.load(pd(\"nasdaq3.csv\"))\n",
    "    except:\n",
    "        table = Datasheet()\n",
    "        \n",
    "    news_sentiment = sentiment(news_text)\n",
    "    \n",
    "    print(\"Article \", news_url, \" from \", news_date, \" sentiment \", news_sentiment)\n",
    "        \n",
    "    table.append([counter, news_date, news_url, news_sentiment])\n",
    "\n",
    "    table.save(pd(\"nasdaq3.csv\"))    \n",
    "    \n",
    "    counter += 1\n",
    "\n",
    "    return news_text \n",
    "\n",
    "'''Generalized function to get all news-related articles from a Nasdaq webpage'''\n",
    "def get_news_urls(links_site):\n",
    "    '''scrape the html of the site'''\n",
    "    resp = requests.get(links_site)\n",
    " \n",
    "    if not resp.ok:\n",
    "        return None\n",
    " \n",
    "    html = resp.content\n",
    " \n",
    "    '''convert html to BeautifulSoup object'''\n",
    "    soup = BeautifulSoup(html , 'lxml')\n",
    " \n",
    "    '''get list of all links on webpage'''\n",
    "    links = soup.find_all('a')\n",
    "    \n",
    "    urls = [link.get('href') for link in links]\n",
    "    urls = [url for url in urls if url is not None]\n",
    " \n",
    "    '''Filter the list of urls to just the news articles'''\n",
    "    news_urls = [url for url in urls if '/article/' in url]\n",
    "\n",
    "#    print(news_urls[0])\n",
    "    \n",
    "    return news_urls#scrape_news_text(news_urls[0])\n",
    "\n",
    "def scrape_all_articles(ticker , upper_page_limit = 5):\n",
    " \n",
    "    landing_site = 'http://www.nasdaq.com/symbol/' + ticker + '/news-headlines'\n",
    "    \n",
    "#    print(landing_site)\n",
    "    \n",
    "#    return get_news_urls(landing_site)\n",
    " \n",
    "    all_news_urls = get_news_urls(landing_site)\n",
    " \n",
    "    current_urls_list = all_news_urls.copy()\n",
    " \n",
    "    index = 2\n",
    " \n",
    "    '''Loop through each sequential page, scraping the links from each'''\n",
    "    while (current_urls_list is not None) and (current_urls_list != []) and \\\n",
    "        (index <= upper_page_limit):\n",
    " \n",
    "        '''Construct URL for page in loop based off index'''\n",
    "        current_site = landing_site + '?page=' + str(index)\n",
    "        \n",
    "        print(current_site)\n",
    "        \n",
    "        current_urls_list = get_news_urls(current_site)\n",
    " \n",
    "        '''Append current webpage's list of urls to all_news_urls'''\n",
    "        all_news_urls = all_news_urls + current_urls_list\n",
    " \n",
    "        index = index + 1\n",
    " \n",
    "    all_news_urls = list(set(all_news_urls))\n",
    " \n",
    "    '''Now, we have a list of urls, we need to actually scrape the text'''\n",
    "    all_articles = [scrape_news_text(news_url) for news_url in all_news_urls]\n",
    " \n",
    "    return all_articles\n",
    "\n",
    "\n",
    "aapl_articles = scrape_all_articles('aapl' , 1)"
   ]
  },
  {
   "cell_type": "markdown",
   "metadata": {},
   "source": [
    "As we can notice above the sentiment as of Dec 16 2018 is neutral towards positive. In the following section we are going to see some correlation between this sentiment and AAPL stock price trend for last week."
   ]
  },
  {
   "cell_type": "markdown",
   "metadata": {},
   "source": [
    "### c) Yahoo Financials Stock Price Scraper"
   ]
  },
  {
   "cell_type": "markdown",
   "metadata": {},
   "source": [
    "__\"Yahoofinancials\"__ library has been used to collect financial information for the stock we want to analyze. \n",
    "\n",
    "In order to make it easier to add/remove features and also to manipulate data in the future we created three different classes each of them encapsulating different functionality. This will make it much easier to add new features and alter existing features."
   ]
  },
  {
   "cell_type": "code",
   "execution_count": 4,
   "metadata": {},
   "outputs": [],
   "source": [
    "import pandas as pd\n",
    "from stockstats import StockDataFrame as Sdf\n",
    "from datetime import datetime, timedelta\n",
    "from yahoofinancials import YahooFinancials\n",
    "import numpy as np\n",
    "import seaborn as sns\n",
    "import matplotlib.pyplot as plt\n",
    "from scipy import stats\n",
    "\n",
    "\n",
    "class Price:\n",
    "    def __init__(self, date, high, low, open, close, volume, adj_close, formatted_date):\n",
    "        self.date = date\n",
    "        self.high = high\n",
    "        self.low = low\n",
    "        self.open = open\n",
    "        self.close = close\n",
    "        self.volume = volume\n",
    "        self.adj_close = adj_close\n",
    "        self.formatted_date = formatted_date\n",
    "        self.maShort = 0\n",
    "        self.maLong = 0\n",
    "        self.label_price = 'N/A'\n",
    "        self.label_trend = 'N/A'\n",
    "        self.prev30 = 0.0\n",
    "        self.prev07 = 0.0\n",
    "        self.after07 = 0.0\n",
    "        self.after30 = 0.0\n",
    "        self.bin_prev30 = 'N/A'\n",
    "        self.bin_prev07 = 'N/A'\n",
    "        self.bin_after07 = 'N/A'\n",
    "        self.bin_after30 = 'N/A'\n",
    "        self.vol_state = 'N/A'\n",
    "\n",
    "    def asdict(self):\n",
    "        return {'date': self.date, 'high': self.high, 'low': self.low,\n",
    "                'open': self.open, 'close': self.close, 'volume': self.volume,\n",
    "                'adj_close': self.adj_close, 'formatted_date': self.formatted_date,\n",
    "                'maShort': self.maShort, 'maLong': self.maLong,\n",
    "                'label_price': self.label_price, 'label_trend': self.label_trend,\n",
    "                'prev30': self.prev30, 'prev07': self.prev07, 'after07': self.after07, 'after30': self.after30,\n",
    "                'bin_prev30': self.bin_prev30, 'bin_prev07': self.bin_prev07,\n",
    "                'bin_after07': self.bin_after07, 'bin_after30': self.bin_after30,\n",
    "                'vol_state':self.vol_state}\n",
    "\n",
    "\n",
    "class PriceHistory:\n",
    "    def __init__(self, raw_prices, ma_short, ma_long):\n",
    "        self.ma_short = ma_short\n",
    "        self.ma_long = ma_long\n",
    "        prices = raw_prices\n",
    "        price_list = []\n",
    "        for price in prices:\n",
    "            price_list.append(Price(price[\"date\"], price[\"high\"], price[\"low\"], price[\"open\"], price[\"close\"],\n",
    "                                    price[\"volume\"], price[\"adjclose\"], price[\"formatted_date\"]))\n",
    "        price_list.sort(key=lambda x: x.date, reverse=True)\n",
    "        self.PriceHistory = price_list.copy()\n",
    "        self.PriceFeature = self.assign_ma()\n",
    "\n",
    "    def get_ma(self, from_index, days):\n",
    "        end_index = min(len(self.PriceHistory), from_index + days)\n",
    "        sub_list = self.PriceHistory[from_index: end_index]\n",
    "        sum_close = 0\n",
    "        for x in sub_list:\n",
    "            sum_close += x.close\n",
    "        return sum_close / days\n",
    "\n",
    "    def get_label_as_price(self, index):\n",
    "        next_day_index = index - 1\n",
    "        if next_day_index >= 0:\n",
    "            return self.PriceHistory[next_day_index].close\n",
    "        else:\n",
    "            return 'N/A'\n",
    "\n",
    "    def get_label_as_trend(self, index):\n",
    "        next_day_index = index - 1\n",
    "        if next_day_index >= 0:\n",
    "            change = self.PriceHistory[next_day_index].close - self.PriceHistory[index].close\n",
    "            if change > 0:\n",
    "                return 'UP'\n",
    "            elif change == 0:\n",
    "                return 'NEUTRAL'\n",
    "            else:\n",
    "                return 'DOWN'\n",
    "        else:\n",
    "            return 'N/A'\n",
    "\n",
    "    def get_perc_prev(self, index, daydiff):\n",
    "        next_day_index = index - daydiff\n",
    "        if next_day_index >= 0:\n",
    "            change = (self.PriceHistory[index].close - self.PriceHistory[next_day_index].close)/self.PriceHistory[index].close * 100\n",
    "            return change\n",
    "        else:\n",
    "            return -100\n",
    "\n",
    "    def get_perc_after(self, index, daydiff):\n",
    "        end_index = len(self.PriceHistory)\n",
    "        next_day_index = index + daydiff\n",
    "        if next_day_index < end_index:\n",
    "            change = (self.PriceHistory[next_day_index].close - self.PriceHistory[index].close)/self.PriceHistory[index].close * 100\n",
    "            return change\n",
    "        else:\n",
    "            return -100\n",
    "\n",
    "    def get_bin_perc(self, change):\n",
    "\n",
    "        if change == 0:\n",
    "            return '0.Neutral'\n",
    "        elif 5 > change > 0:\n",
    "            return '1.Low Increase'\n",
    "        elif 10 > change >= 5:\n",
    "            return '2.Moderate Increase'\n",
    "        elif 15 > change >= 10:\n",
    "            return '3.High Increase'\n",
    "        elif 20 > change >= 15:\n",
    "            return '4.Very High Increase'\n",
    "        elif change >= 20:\n",
    "            return '5. Extreme Increase'\n",
    "        elif -5 < change < 0:\n",
    "            return '-1.Low Decrease'\n",
    "        elif -10 <= change <= -5:\n",
    "            return '-2.Moderate Decrease'\n",
    "        elif -15 <= change <= -5:\n",
    "            return '-3.High Decrease'\n",
    "        elif -20 <= change <= -5:\n",
    "            return '-4.Very High Decrease'\n",
    "        elif change <= -20:\n",
    "            return '-5.Extreme Decrease'\n",
    "        else:\n",
    "            return 'N/A'\n",
    "\n",
    "    def get_bin_volume(self, index):\n",
    "\n",
    "        if self.PriceHistory[index].volume == 0:\n",
    "            return '0.No Volume'\n",
    "        elif 30000000 >= self.PriceHistory[index].volume > 0:\n",
    "            return '1.Low Volume'\n",
    "        elif 50000000 >= self.PriceHistory[index].volume > 30000000:\n",
    "            return '2.Moderate Volume'\n",
    "        elif 80000000 >= self.PriceHistory[index].volume > 50000000:\n",
    "            return '3.High Volume'\n",
    "        elif self.PriceHistory[index].volume > 80000000:\n",
    "            return '4.Extreme Volume'\n",
    "        else:\n",
    "            return '-1.N/A'\n",
    "\n",
    "\n",
    "    def assign_ma(self):\n",
    "        price_history = self.PriceHistory.copy()\n",
    "        price_dict_list = []\n",
    "        for price in price_history:\n",
    "            price.maShort = self.get_ma(price_history.index(price), self.ma_short)\n",
    "            price.maLong = self.get_ma(price_history.index(price), self.ma_long)\n",
    "            price.label_price = self.get_label_as_price(price_history.index(price))\n",
    "            price.label_trend = self.get_label_as_trend(price_history.index(price))\n",
    "            price.prev30 = self.get_perc_prev(price_history.index(price), 30)\n",
    "            price.prev07 = self.get_perc_prev(price_history.index(price), 7)\n",
    "            price.after30 = self.get_perc_after(price_history.index(price), 30)\n",
    "            price.after07 = self.get_perc_after(price_history.index(price), 7)\n",
    "            price.bin_prev30 = self.get_bin_perc(price.prev30)\n",
    "            price.bin_prev07 = self.get_bin_perc(price.prev07)\n",
    "            price.bin_after07 = self.get_bin_perc(price.after07)\n",
    "            price.bin_after30 = self.get_bin_perc(price.after30)\n",
    "            price.vol_state = self.get_bin_volume(price_history.index(price))\n",
    "            price_dict = price.asdict().copy()\n",
    "            price_dict_list.append(price_dict)\n",
    "        return price_dict_list\n",
    "\n",
    "\n",
    "class StockPrice:\n",
    "    def __init__(self, stock, from_date, to_date, ma_short, ma_long):\n",
    "        self.stock = stock\n",
    "        self.from_date = from_date\n",
    "        self.to_date = to_date\n",
    "        self.ma_short = ma_short\n",
    "        self.ma_long = ma_long\n",
    "        # assign prices\n",
    "        prices = YahooFinancials(stock).get_historical_price_data(from_date, to_date, 'daily')[stock][\"prices\"]\n",
    "        self.price_history = PriceHistory(prices, ma_short, ma_long)\n"
   ]
  },
  {
   "cell_type": "markdown",
   "metadata": {},
   "source": [
    "Now get 1 year worth of data from Yahoo and just look at it. This will help us decide what else we would like to add in order to get our model to work reasonably well."
   ]
  },
  {
   "cell_type": "code",
   "execution_count": 5,
   "metadata": {},
   "outputs": [
    {
     "name": "stdout",
     "output_type": "stream",
     "text": [
      "<class 'pandas.core.frame.DataFrame'>\n",
      "RangeIndex: 502 entries, 0 to 501\n",
      "Data columns (total 21 columns):\n",
      "adj_close         502 non-null float64\n",
      "after07           502 non-null float64\n",
      "after30           502 non-null float64\n",
      "bin_after07       502 non-null object\n",
      "bin_after30       502 non-null object\n",
      "bin_prev07        502 non-null object\n",
      "bin_prev30        502 non-null object\n",
      "close             502 non-null float64\n",
      "date              502 non-null int64\n",
      "formatted_date    502 non-null object\n",
      "high              502 non-null float64\n",
      "label_price       502 non-null object\n",
      "label_trend       502 non-null object\n",
      "low               502 non-null float64\n",
      "maLong            502 non-null float64\n",
      "maShort           502 non-null float64\n",
      "open              502 non-null float64\n",
      "prev07            502 non-null float64\n",
      "prev30            502 non-null float64\n",
      "vol_state         502 non-null object\n",
      "volume            502 non-null int64\n",
      "dtypes: float64(11), int64(2), object(8)\n",
      "memory usage: 82.4+ KB\n"
     ]
    }
   ],
   "source": [
    "ticker = 'AAPL'\n",
    "to_date = datetime.strftime(datetime.today() - timedelta(days=1), '%Y-%m-%d')\n",
    "from_date = datetime.strftime(datetime.today() - timedelta(days=2*365), '%Y-%m-%d')\n",
    "\n",
    "appl = StockPrice(ticker, from_date, to_date, 2, 15)\n",
    "data = pd.DataFrame(appl.price_history.PriceFeature)\n",
    "data.info()"
   ]
  },
  {
   "cell_type": "markdown",
   "metadata": {},
   "source": [
    "Now, that we have the data, we are going to use [\"stockstats\"](https://pypi.org/project/stockstats/) in order to get some objective stock indicators curently used in the financial world. __\"Stockstats\"__ provides a wealth of indicators like: moving averages, exponential moving averages, raw stochastic values, etc. "
   ]
  },
  {
   "cell_type": "code",
   "execution_count": 6,
   "metadata": {},
   "outputs": [
    {
     "name": "stderr",
     "output_type": "stream",
     "text": [
      "/home/silviu/.local/lib/python3.6/site-packages/pandas/core/indexing.py:189: SettingWithCopyWarning: \n",
      "A value is trying to be set on a copy of a slice from a DataFrame\n",
      "\n",
      "See the caveats in the documentation: http://pandas.pydata.org/pandas-docs/stable/indexing.html#indexing-view-versus-copy\n",
      "  self._setitem_with_indexer(indexer, value)\n",
      "/home/silviu/anaconda3/lib/python3.6/site-packages/stockstats.py:189: FutureWarning: Currently, 'apply' passes the values as ndarrays to the applied function. In the future, this will change to passing it as Series objects. You need to specify 'raw=True' to keep the current behaviour, and you can pass 'raw=False' to silence this warning\n",
      "  center=False, window=shifts).apply(np.count_nonzero)\n",
      "/home/silviu/anaconda3/lib/python3.6/site-packages/stockstats.py:387: FutureWarning: Currently, 'apply' passes the values as ndarrays to the applied function. In the future, this will change to passing it as Series objects. You need to specify 'raw=True' to keep the current behaviour, and you can pass 'raw=False' to silence this warning\n",
      "  lambda x: np.fabs(x - x.mean()).mean())\n",
      "/home/silviu/.local/lib/python3.6/site-packages/numpy/core/fromnumeric.py:83: RuntimeWarning: invalid value encountered in reduce\n",
      "  return ufunc.reduce(obj, axis, dtype, out, **passkwargs)\n"
     ]
    }
   ],
   "source": [
    "# Append technical indicators into feature dataframe\n",
    "stock = Sdf.retype(data)\n",
    "\n",
    "data['volume_delta'] = stock['volume_delta']\n",
    "data['open_-2_r'] = stock['open_-2_r']\n",
    "\n",
    "data['cr-ma1'] = stock['cr-ma1']\n",
    "data['cr-ma2'] = stock['cr-ma2']\n",
    "data['cr-ma3'] = stock['cr-ma3']\n",
    "data['cr-ma2_xu_cr-ma1_20_c'] = stock['cr-ma2_xu_cr-ma1_20_c']\n",
    "\n",
    "\n",
    "data['volume_-3,2,-1_max'] = stock['volume_-3,2,-1_max']\n",
    "data['volume_-3~1_min'] = stock['volume_-3~1_min']\n",
    "\n",
    "data['kdjk'] = stock['kdjk']\n",
    "data['kdjd'] = stock['kdjd']\n",
    "data['kdjj'] = stock['kdjj']\n",
    "\n",
    "\n",
    "data['close_2_sma'] = stock['close_2_sma']\n",
    "data['close_5_sma'] = stock['close_5_sma']\n",
    "data['close_20_sma'] = stock['close_20_sma']\n",
    "data['close_50_sma'] = stock['close_50_sma']\n",
    "data['close_200_sma'] = stock['close_200_sma']\n",
    "\n",
    "data['rsi_6'] = stock['rsi_6']\n",
    "data['rsi_12'] = stock['rsi_12']\n",
    "\n",
    "data['wr_10'] = stock['wr_10']\n",
    "data['wr_6'] = stock['wr_6']\n",
    "\n",
    "# CCI, default to 14 days\n",
    "data['cci'] = stock['cci']\n",
    "# 20 days CCI\n",
    "data['cci_20'] = stock['cci_20']\n",
    "\n",
    "# TR (true range)\n",
    "data['tr'] = stock['tr']\n",
    "# ATR (Average True Range)\n",
    "data['atr'] = stock['atr']\n",
    "\n",
    "# DMA, difference of 10 and 50 moving average\n",
    "data['dma'] = stock['dma']\n",
    "\n",
    "# DMI\n",
    "# +DI, default to 14 days\n",
    "data['pdi'] = stock['pdi']\n",
    "# -DI, default to 14 days\n",
    "data['mdi'] = stock['mdi']\n",
    "# DX, default to 14 days of +DI and -DI\n",
    "data['dx'] = stock['dx']\n",
    "# ADX, 6 days SMA of DX, same as stock['dx_6_ema']\n",
    "data['adx'] = stock['adx']\n",
    "# ADXR, 6 days SMA of ADX, same as stock['adx_6_ema']\n",
    "data['adxr'] = stock['adxr']\n",
    "# TRIX, default to 12 days\n",
    "data['trix'] = stock['trix']\n",
    "# MATRIX is the simple moving average of TRIX\n",
    "data['trix_9_sma'] = stock['trix_9_sma']\n",
    "# VR, default to 26 days\n",
    "data['vr'] = stock['vr']\n",
    "# MAVR is the simple moving average of VR\n",
    "data['vr_6_sma'] = stock['vr_6_sma']\n",
    "\n",
    "# MACD\n",
    "data['macd'] = stock['macd']\n",
    "# MACD signal line\n",
    "data['macds'] = stock['macds']\n",
    "# MACD histogram\n",
    "data['macdh'] = stock['macdh']\n",
    "\n",
    "# bolling, including upper band and lower band\n",
    "data['boll'] = stock['boll']\n",
    "data['boll_ub'] = stock['boll_ub']\n",
    "data['boll_lb'] = stock['boll_lb']\n",
    "\n",
    "plt.interactive(True)"
   ]
  },
  {
   "cell_type": "markdown",
   "metadata": {},
   "source": [
    "Plot stock price histograms."
   ]
  },
  {
   "cell_type": "code",
   "execution_count": 7,
   "metadata": {},
   "outputs": [
    {
     "data": {
      "image/png": "[encoded data removed]",
      "text/plain": [
       "<Figure size 1440x720 with 4 Axes>"
      ]
     },
     "metadata": {
      "needs_background": "light"
     },
     "output_type": "display_data"
    }
   ],
   "source": [
    "#filtering out of range data\n",
    "prev30_filter = data.loc[data['prev30'] != -100 ]\n",
    "prev07_filter = data.loc[data['prev07'] != -100 ]\n",
    "after07_filter = data.loc[data['after07'] != -100 ]\n",
    "after30_filter = data.loc[data['after30'] != -100 ]\n",
    "\n",
    "\n",
    "\n",
    "#prev30_filter graph\n",
    "prev30_min = prev30_filter['prev30'].min()\n",
    "prev30_max = prev30_filter['prev30'].max()\n",
    "\n",
    "plt.figure(figsize=(20,10))\n",
    "\n",
    "for i, binwidth in enumerate([1, 2, 3, 5]):\n",
    "    # Set up the plot\n",
    "    p30 = plt.subplot(2, 2, i + 1)\n",
    "\n",
    "    # Draw the plot\n",
    "    p30.hist(prev30_filter['prev30'], color='red', edgecolor='red', bins=int(abs(prev30_max - prev30_min)/binwidth))\n",
    "\n",
    "    # Title and labels\n",
    "    p30.set_title('Histogram with Binwidth = %d' % binwidth, size=15)\n",
    "    p30.set_xlabel('Price % change', size=10)\n",
    "    p30.set_ylabel('Occurance', size=10)\n",
    " \n"
   ]
  },
  {
   "cell_type": "markdown",
   "metadata": {},
   "source": [
    "Same for 7 days history, 30 days and volume as well"
   ]
  },
  {
   "cell_type": "code",
   "execution_count": 8,
   "metadata": {},
   "outputs": [
    {
     "data": {
      "image/png": "[encoded data removed]",
      "text/plain": [
       "<Figure size 1440x720 with 4 Axes>"
      ]
     },
     "metadata": {
      "needs_background": "light"
     },
     "output_type": "display_data"
    }
   ],
   "source": [
    "#prev07_filter_graph\n",
    "prev07_min = prev07_filter['prev07'].min()\n",
    "prev07_max = prev07_filter['prev07'].max()\n",
    "plt.figure(figsize=(20,10))\n",
    "for i, binwidth in enumerate([1, 2, 3, 5]):\n",
    "    # Set up the plot\n",
    "    p07 = plt.subplot(2, 2, i + 1)\n",
    "\n",
    "    # Draw the plot\n",
    "    p07.hist(prev07_filter['prev07'], color='orange', edgecolor='orange', bins=int(abs(prev07_max - prev07_min)/binwidth))\n",
    "\n",
    "    # Title and labels\n",
    "    p07.set_title('Histogram with Binwidth = %d' % binwidth, size=15)\n",
    "    p07.set_xlabel('Price % change', size=10)\n",
    "    p07.set_ylabel('Occurance', size=10)\n"
   ]
  },
  {
   "cell_type": "code",
   "execution_count": 9,
   "metadata": {},
   "outputs": [
    {
     "data": {
      "image/png": "[encoded data removed]",
      "text/plain": [
       "<Figure size 1440x720 with 4 Axes>"
      ]
     },
     "metadata": {
      "needs_background": "light"
     },
     "output_type": "display_data"
    }
   ],
   "source": [
    "#after07_filter_graph\n",
    "after07_min = after07_filter['after07'].min()\n",
    "after07_max = after07_filter['after07'].max()\n",
    "plt.figure(figsize=(20,10))\n",
    "for i, binwidth in enumerate([1, 2, 3, 5]):\n",
    "    # Set up the plot\n",
    "    a07 = plt.subplot(2, 2, i + 1)\n",
    "\n",
    "    # Draw the plot\n",
    "    a07.hist(after07_filter['after07'], color='yellow', edgecolor='yellow', bins=int(abs(after07_max - after07_min)/binwidth))\n",
    "\n",
    "    # Title and labels\n",
    "    a07.set_title('Histogram with Binwidth = %d' % binwidth, size=15)\n",
    "    a07.set_xlabel('Price % change', size=10)\n",
    "    a07.set_ylabel('Occurance', size=10)"
   ]
  },
  {
   "cell_type": "code",
   "execution_count": 10,
   "metadata": {},
   "outputs": [
    {
     "data": {
      "image/png": "[encoded data removed]",
      "text/plain": [
       "<Figure size 1440x720 with 4 Axes>"
      ]
     },
     "metadata": {
      "needs_background": "light"
     },
     "output_type": "display_data"
    }
   ],
   "source": [
    "#after30_filter_graph\n",
    "after30_min = after30_filter['after30'].min()\n",
    "after30_max = after30_filter['after30'].max()\n",
    "plt.figure(figsize=(20,10))\n",
    "for i, binwidth in enumerate([1, 2, 3, 5]):\n",
    "    # Set up the plot\n",
    "    a30 = plt.subplot(2, 2, i + 1)\n",
    "\n",
    "    # Draw the plot\n",
    "    a30.hist(after30_filter['after30'], color='yellow', edgecolor='yellow', bins=int(abs(after30_max - after30_min)/binwidth))\n",
    "\n",
    "    # Title and labels\n",
    "    a30.set_title('Histogram with Binwidth = %d' % binwidth, size=15)\n",
    "    a30.set_xlabel('Price % change', size=10)\n",
    "    a30.set_ylabel('Occurance', size=10)\n"
   ]
  },
  {
   "cell_type": "markdown",
   "metadata": {},
   "source": [
    "Volume plot"
   ]
  },
  {
   "cell_type": "code",
   "execution_count": 11,
   "metadata": {},
   "outputs": [
    {
     "data": {
      "image/png": "[encoded data removed]",
      "text/plain": [
       "<Figure size 1440x720 with 4 Axes>"
      ]
     },
     "metadata": {
      "needs_background": "light"
     },
     "output_type": "display_data"
    }
   ],
   "source": [
    "#volume_graph\n",
    "volume_min = data['volume'].min()\n",
    "volume_max = data['volume'].max()\n",
    "plt.figure(figsize=(20,10))\n",
    "for i, binwidth in enumerate([1000000 ,5000000, 10000000, 20000000]):\n",
    "    # Set up the plot\n",
    "    vg = plt.subplot(2, 2, i + 1)\n",
    "\n",
    "    # Draw the plot\n",
    "    vg.hist(data['volume'], color='purple', edgecolor='purple', bins=int(abs(volume_max - volume_min)/binwidth))\n",
    "\n",
    "    # Title and labels\n",
    "    vg.set_title('Histogram with Binwidth = %d' % binwidth, size=15)\n",
    "    vg.set_xlabel('Price % change', size=10)\n",
    "    vg.set_ylabel('Occurance', size=10)"
   ]
  },
  {
   "cell_type": "code",
   "execution_count": 12,
   "metadata": {},
   "outputs": [
    {
     "name": "stdout",
     "output_type": "stream",
     "text": [
      "                      prev30           \n",
      "                       count       mean\n",
      "bin_prev30                             \n",
      "-1.Low Decrease           90  -2.209886\n",
      "-2.Moderate Decrease     119  -7.379828\n",
      "-3.High Decrease          67 -12.611557\n",
      "-4.Very High Decrease     31 -16.676661\n",
      "1.Low Increase           112   2.287955\n",
      "2.Moderate Increase       28   7.187229\n",
      "3.High Increase            4  12.213286\n",
      "4.Very High Increase      13  18.204273\n",
      "5. Extreme Increase        8  22.023288\n"
     ]
    }
   ],
   "source": [
    "#distribution group\n",
    "prev30_group = prev30_filter[['bin_prev30','prev30']].groupby(['bin_prev30']).agg(['count','mean'])\n",
    "print(prev30_group)"
   ]
  },
  {
   "cell_type": "code",
   "execution_count": 13,
   "metadata": {},
   "outputs": [
    {
     "name": "stdout",
     "output_type": "stream",
     "text": [
      "                     prev07           \n",
      "                      count       mean\n",
      "bin_prev07                            \n",
      "-1.Low Decrease         252  -1.975747\n",
      "-2.Moderate Decrease     43  -7.039996\n",
      "-3.High Decrease          8 -12.150843\n",
      "1.Low Increase          146   1.851729\n",
      "2.Moderate Increase      42   6.643243\n",
      "3.High Increase           4  11.823594\n"
     ]
    }
   ],
   "source": [
    "prev07_group = prev07_filter[['bin_prev07','prev07']].groupby(['bin_prev07']).agg(['count','mean'])\n",
    "print(prev07_group)"
   ]
  },
  {
   "cell_type": "code",
   "execution_count": 14,
   "metadata": {},
   "outputs": [
    {
     "name": "stdout",
     "output_type": "stream",
     "text": [
      "                     after07           \n",
      "                       count       mean\n",
      "bin_after07                            \n",
      "-1.Low Decrease          254  -1.946837\n",
      "-2.Moderate Decrease      44  -6.847356\n",
      "-3.High Decrease           5 -11.571103\n",
      "1.Low Increase           141   1.791014\n",
      "2.Moderate Increase       47   6.915958\n",
      "3.High Increase            3  12.731817\n",
      "4.Very High Increase       1  15.532832\n"
     ]
    }
   ],
   "source": [
    "after07_group = after07_filter[['bin_after07','after07']].groupby(['bin_after07']).agg(['count','mean'])\n",
    "print(after07_group)"
   ]
  },
  {
   "cell_type": "code",
   "execution_count": 15,
   "metadata": {},
   "outputs": [
    {
     "name": "stdout",
     "output_type": "stream",
     "text": [
      "                      after30           \n",
      "                        count       mean\n",
      "bin_after30                             \n",
      "-1.Low Decrease           102  -2.462197\n",
      "-2.Moderate Decrease      122  -7.384976\n",
      "-3.High Decrease           77 -12.404755\n",
      "-4.Very High Decrease       6 -15.613666\n",
      "1.Low Increase            106   2.205973\n",
      "2.Moderate Increase        32   7.118213\n",
      "3.High Increase             4  10.850364\n",
      "4.Very High Increase        5  17.996386\n",
      "5. Extreme Increase        18  25.499046\n"
     ]
    }
   ],
   "source": [
    "after30_group = after30_filter[['bin_after30','after30']].groupby(['bin_after30']).agg(['count','mean'])\n",
    "print(after30_group)"
   ]
  },
  {
   "cell_type": "code",
   "execution_count": 16,
   "metadata": {},
   "outputs": [
    {
     "name": "stdout",
     "output_type": "stream",
     "text": [
      "                  volume              \n",
      "                   count          mean\n",
      "vol_state                             \n",
      "1.Low Volume         313  2.243583e+07\n",
      "2.Moderate Volume    154  3.760558e+07\n",
      "3.High Volume         31  6.054661e+07\n",
      "4.Extreme Volume       4  9.653855e+07\n"
     ]
    }
   ],
   "source": [
    "volume_group = data[['vol_state','volume']].groupby(['vol_state']).agg(['count','mean'])\n",
    "print(volume_group)"
   ]
  },
  {
   "cell_type": "code",
   "execution_count": 17,
   "metadata": {},
   "outputs": [
    {
     "name": "stdout",
     "output_type": "stream",
     "text": [
      "['adj_close' 'after07' 'after30' 'bin_after07' 'bin_after30' 'bin_prev07'\n",
      " 'bin_prev30' 'close' 'formatted_date' 'high' 'label_price' 'label_trend'\n",
      " 'low' 'malong' 'mashort' 'open' 'prev07' 'prev30' 'vol_state' 'volume'\n",
      " 'volume_delta' 'open_-2_r' 'middle' 'cr' 'cr-ma1' 'cr-ma2' 'cr-ma3'\n",
      " 'cr-ma1_20_c' 'cr-ma2_xu_cr-ma1_20_c' 'volume_-3_s' 'volume_-1_s'\n",
      " 'volume_2_s' 'volume_-3,2,-1_max' 'volume_-2_s' 'volume_0_s' 'volume_1_s'\n",
      " 'volume_-3~1_min' 'rsv_9' 'kdjk_9' 'kdjk' 'kdjd_9' 'kdjd' 'kdjj_9' 'kdjj'\n",
      " 'close_2_sma' 'close_5_sma' 'close_20_sma' 'close_50_sma' 'close_200_sma'\n",
      " 'close_-1_s' 'close_-1_d' 'rs_6' 'rsi_6' 'rs_12' 'rsi_12' 'wr_10' 'wr_6'\n",
      " 'middle_14_sma' 'cci' 'middle_20_sma' 'cci_20' 'tr' 'atr' 'close_10_sma'\n",
      " 'dma' 'high_delta' 'um' 'low_delta' 'dm' 'pdm' 'pdm_14_ema' 'pdm_14'\n",
      " 'atr_14' 'pdi_14' 'pdi' 'mdm' 'mdm_14_ema' 'mdm_14' 'mdi_14' 'mdi'\n",
      " 'dx_14' 'dx' 'dx_6_ema' 'adx' 'adx_6_ema' 'adxr' 'trix' 'trix_9_sma'\n",
      " 'change' 'vr' 'vr_6_sma' 'close_12_ema' 'close_26_ema' 'macd' 'macds'\n",
      " 'macdh' 'close_20_mstd' 'boll' 'boll_ub' 'boll_lb']\n"
     ]
    }
   ],
   "source": [
    "print(data.columns.get_values())"
   ]
  },
  {
   "cell_type": "markdown",
   "metadata": {},
   "source": [
    "### d) Getting stock data from StockPriceForModel"
   ]
  },
  {
   "cell_type": "markdown",
   "metadata": {},
   "source": [
    "We can choose any ticker and the time period (e.g. 2,3,5 or 10 years) to train and predict data. The code will grasp data from today to the time period you choose.\n",
    "\n",
    "In this code, we choose APPLE stock with time period = 10 years.\n",
    "\n",
    "Each record in the price_features will contains the original stock trading data and the price label (label_price) which is the close price of the next day as the class to predict.\n",
    "\n",
    "We also add numbers of technical indicators which captures all historical data and the historical stock movement's important information.\n",
    "\n",
    "Here is the list of technical indicators we have added into our stock dataset:\n",
    "\n",
    "middle = (close + high + low) / 3 SMA: simple moving average EMA: exponential moving average MSTD: moving standard deviation MVAR: moving variance RSV: raw stochastic value RSI: relative strength index KDJ: Stochastic oscillator Bolling: including upper band and lower band. MACD: moving average convergence divergence. Including signal and histogram. (see note) CR: WR: Williams Overbought/Oversold index CCI: Commodity Channel Index TR: true range ATR: average true range line cross check, cross up or cross down. DMA: Different of Moving Average (10, 50) DMI: Directional Moving Index, including +DI: Positive Directional Indicator -DI: Negative Directional Indicator ADX: Average Directional Movement Index ADXR: Smoothed Moving Average of ADX TRIX: Triple Exponential Moving Average VR: Volatility Volume Ratio"
   ]
  },
  {
   "cell_type": "code",
   "execution_count": 18,
   "metadata": {},
   "outputs": [],
   "source": [
    "import pandas\n",
    "import numpy\n",
    "from datetime import datetime, timedelta\n",
    "from sklearn.feature_selection import SelectKBest\n",
    "from sklearn.feature_selection import f_regression\n",
    "from StockPriceForModel import StockPriceForModel\n",
    "import matplotlib"
   ]
  },
  {
   "cell_type": "code",
   "execution_count": 19,
   "metadata": {},
   "outputs": [],
   "source": [
    "ticker = 'AAPL'\n",
    "to_date = datetime.strftime(datetime.today() - timedelta(days=1), '%Y-%m-%d')\n",
    "from_date = datetime.strftime(datetime.today() - timedelta(days=10*365), '%Y-%m-%d')\n",
    "appl = StockPriceForModel(ticker, from_date, to_date, 2, 15)\n",
    "dataframe = appl.price_features\n",
    "dataframe = dataframe.dropna()"
   ]
  },
  {
   "cell_type": "markdown",
   "metadata": {},
   "source": [
    "#### Plot the stock's close price"
   ]
  },
  {
   "cell_type": "markdown",
   "metadata": {},
   "source": [
    "In this block, we plot the close price of the stock comparing with the simple movement average of 50, 200 days. You can the trend for short term and long term price movement."
   ]
  },
  {
   "cell_type": "code",
   "execution_count": 20,
   "metadata": {},
   "outputs": [
    {
     "name": "stdout",
     "output_type": "stream",
     "text": [
      "['adj_close' 'close' 'high' 'label_price' 'low' 'open' 'volume'\n",
      " 'volume_delta' 'open_-2_r' 'middle' 'cr' 'cr-ma1' 'cr-ma2' 'cr-ma3'\n",
      " 'cr-ma1_20_c' 'cr-ma2_xu_cr-ma1_20_c' 'volume_-3_s' 'volume_-1_s'\n",
      " 'volume_2_s' 'volume_-3,2,-1_max' 'volume_-2_s' 'volume_0_s' 'volume_1_s'\n",
      " 'volume_-3~1_min' 'rsv_9' 'kdjk_9' 'kdjk' 'kdjd_9' 'kdjd' 'kdjj_9' 'kdjj'\n",
      " 'close_2_sma' 'close_5_sma' 'close_20_sma' 'close_50_sma' 'close_200_sma'\n",
      " 'close_-1_s' 'close_-1_d' 'rs_6' 'rsi_6' 'rs_12' 'rsi_12' 'wr_10' 'wr_6'\n",
      " 'middle_14_sma' 'cci' 'middle_20_sma' 'cci_20' 'tr' 'atr' 'close_10_sma'\n",
      " 'dma' 'high_delta' 'um' 'low_delta' 'dm' 'pdm' 'pdm_14_ema' 'pdm_14'\n",
      " 'atr_14' 'pdi_14' 'pdi' 'mdm' 'mdm_14_ema' 'mdm_14' 'mdi_14' 'mdi'\n",
      " 'dx_14' 'dx' 'dx_6_ema' 'adx' 'adx_6_ema' 'adxr' 'trix' 'trix_9_sma'\n",
      " 'change' 'vr' 'vr_6_sma' 'close_12_ema' 'close_26_ema' 'macd' 'macds'\n",
      " 'macdh' 'close_20_mstd' 'boll' 'boll_ub' 'boll_lb']\n"
     ]
    },
    {
     "data": {
      "text/plain": [
       "<matplotlib.axes._subplots.AxesSubplot at 0x7f3b3b6124a8>"
      ]
     },
     "execution_count": 20,
     "metadata": {},
     "output_type": "execute_result"
    },
    {
     "data": {
      "image/png": "[encoded data removed]",
      "text/plain": [
       "<Figure size 432x288 with 1 Axes>"
      ]
     },
     "metadata": {
      "needs_background": "light"
     },
     "output_type": "display_data"
    }
   ],
   "source": [
    "print(dataframe.columns.get_values())\n",
    "sp_close_series = dataframe.close\n",
    "sp_close_series.plot()\n",
    "sp_sma_series_50 = dataframe.close_50_sma  \n",
    "sp_sma_series_50.plot()\n",
    "sp_sma_series_200 = dataframe.close_200_sma  \n",
    "sp_sma_series_200.plot()"
   ]
  },
  {
   "cell_type": "markdown",
   "metadata": {},
   "source": [
    "## Model\n",
    "We use a simple linear regression as the first model for our prediction.\n",
    "We also use pipline to do some feature tasks:\n",
    "+ Impute missing values using the mean\n",
    "+ Transform features to quadratic\n",
    "+ Fit a linear regression\n",
    "The returned performances are quit good with R^2 in range of [0.5,1]"
   ]
  },
  {
   "cell_type": "code",
   "execution_count": 21,
   "metadata": {},
   "outputs": [
    {
     "name": "stdout",
     "output_type": "stream",
     "text": [
      "MAE:  -1.9891956582192676 0.4856277531018354\n",
      "R^2: 0.8332197569428601 0.13336314034475194\n"
     ]
    }
   ],
   "source": [
    "from sklearn.pipeline import make_pipeline\n",
    "from sklearn.preprocessing import PolynomialFeatures\n",
    "from sklearn.linear_model import LinearRegression\n",
    "from sklearn.impute import SimpleImputer \n",
    "from sklearn import model_selection\n",
    "\n",
    "model = make_pipeline(SimpleImputer(strategy='mean'),\n",
    "                      PolynomialFeatures(degree=2),\n",
    "                      LinearRegression())\n",
    "\n",
    "X = dataframe.loc[:, dataframe.columns != 'label_price']\n",
    "y = dataframe.loc[:,'label_price']\n",
    "seed = 7\n",
    "kfold = model_selection.KFold(n_splits=10, random_state=seed)\n",
    "scoring = 'neg_mean_absolute_error'\n",
    "results = model_selection.cross_val_score(model, X, y, cv=kfold, scoring=scoring)\n",
    "print(\"MAE: \", results.mean(), results.std())\n",
    "scoring = 'r2'\n",
    "results = model_selection.cross_val_score(model, X, y, cv=kfold, scoring=scoring)\n",
    "print(\"R^2:\", results.mean(), results.std())"
   ]
  }
 ],
 "metadata": {
  "kernelspec": {
   "display_name": "Python 3",
   "language": "python",
   "name": "python3"
  },
  "language_info": {
   "codemirror_mode": {
    "name": "ipython",
    "version": 3
   },
   "file_extension": ".py",
   "mimetype": "text/x-python",
   "name": "python",
   "nbconvert_exporter": "python",
   "pygments_lexer": "ipython3",
   "version": "3.6.7"
  }
 },
 "nbformat": 4,
 "nbformat_minor": 2
}
