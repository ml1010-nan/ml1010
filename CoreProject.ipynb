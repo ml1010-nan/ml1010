{
 "cells": [
  {
   "cell_type": "code",
   "execution_count": 22,
   "metadata": {},
   "outputs": [],
   "source": [
    "import pandas\n",
    "import numpy\n",
    "from datetime import datetime, timedelta\n",
    "from sklearn.feature_selection import SelectKBest\n",
    "from sklearn.feature_selection import f_regression\n",
    "from StockPriceForModel import StockPriceForModel\n"
   ]
  },
  {
   "cell_type": "markdown",
   "metadata": {},
   "source": [
    "## Getting stock data from StockPriceForModel\n",
    "We can choose any ticker and the time period (e.g. 2,3,5 or 10 years) to train and predict data. The code will grasp data from today to the time period you choose.\n",
    "\n",
    "In this code, we choose APPLE stock with time period = 10 years.\n",
    "\n",
    "Each record in the price_features will contains the original stock trading data and the price label (label_price) which is the close price of the next day as the class to predict.\n",
    "\n",
    "We also add numbers of technical indicators which captures all historical data and the historical stock movement's important information.\n",
    "\n",
    "Here is the list of technical indicators we have added into our stock dataset:\n",
    "\n",
    "middle = (close + high + low) / 3\n",
    "SMA: simple moving average\n",
    "EMA: exponential moving average\n",
    "MSTD: moving standard deviation\n",
    "MVAR: moving variance\n",
    "RSV: raw stochastic value\n",
    "RSI: relative strength index\n",
    "KDJ: Stochastic oscillator\n",
    "Bolling: including upper band and lower band.\n",
    "MACD: moving average convergence divergence. Including signal and histogram. (see note)\n",
    "CR:\n",
    "WR: Williams Overbought/Oversold index\n",
    "CCI: Commodity Channel Index\n",
    "TR: true range\n",
    "ATR: average true range\n",
    "line cross check, cross up or cross down.\n",
    "DMA: Different of Moving Average (10, 50)\n",
    "DMI: Directional Moving Index, including\n",
    "+DI: Positive Directional Indicator\n",
    "-DI: Negative Directional Indicator\n",
    "ADX: Average Directional Movement Index\n",
    "ADXR: Smoothed Moving Average of ADX\n",
    "TRIX: Triple Exponential Moving Average\n",
    "VR: Volatility Volume Ratio\n"
   ]
  },
  {
   "cell_type": "code",
   "execution_count": 23,
   "metadata": {
    "scrolled": false
   },
   "outputs": [
    {
     "name": "stderr",
     "output_type": "stream",
     "text": [
      "C:\\Users\\dt85289\\AppData\\Local\\Continuum\\anaconda3\\envs\\py36\\lib\\site-packages\\pandas\\core\\indexing.py:189: SettingWithCopyWarning: \n",
      "A value is trying to be set on a copy of a slice from a DataFrame\n",
      "\n",
      "See the caveats in the documentation: http://pandas.pydata.org/pandas-docs/stable/indexing.html#indexing-view-versus-copy\n",
      "  self._setitem_with_indexer(indexer, value)\n",
      "C:\\Users\\dt85289\\AppData\\Local\\Continuum\\anaconda3\\envs\\py36\\lib\\site-packages\\stockstats.py:189: FutureWarning: Currently, 'apply' passes the values as ndarrays to the applied function. In the future, this will change to passing it as Series objects. You need to specify 'raw=True' to keep the current behaviour, and you can pass 'raw=False' to silence this warning\n",
      "  center=False, window=shifts).apply(np.count_nonzero)\n",
      "C:\\Users\\dt85289\\AppData\\Local\\Continuum\\anaconda3\\envs\\py36\\lib\\site-packages\\stockstats.py:387: FutureWarning: Currently, 'apply' passes the values as ndarrays to the applied function. In the future, this will change to passing it as Series objects. You need to specify 'raw=True' to keep the current behaviour, and you can pass 'raw=False' to silence this warning\n",
      "  lambda x: np.fabs(x - x.mean()).mean())\n",
      "C:\\Users\\dt85289\\AppData\\Local\\Continuum\\anaconda3\\envs\\py36\\lib\\site-packages\\numpy\\core\\fromnumeric.py:83: RuntimeWarning: invalid value encountered in reduce\n",
      "  return ufunc.reduce(obj, axis, dtype, out, **passkwargs)\n"
     ]
    }
   ],
   "source": [
    "ticker = 'AAPL'\n",
    "to_date = datetime.strftime(datetime.today() - timedelta(days=1), '%Y-%m-%d')\n",
    "from_date = datetime.strftime(datetime.today() - timedelta(days=10*365), '%Y-%m-%d')\n",
    "appl = StockPriceForModel(ticker, from_date, to_date, 2, 15)\n",
    "dataframe = appl.price_features\n",
    "dataframe = dataframe.dropna()"
   ]
  },
  {
   "cell_type": "markdown",
   "metadata": {},
   "source": [
    "## Plot the stock's close price\n",
    "In this block, we plot the close price of the stock comparing with the simple movement average of 50, 200 days.\n",
    "You can the trend for short term and long term price movement. "
   ]
  },
  {
   "cell_type": "code",
   "execution_count": 24,
   "metadata": {
    "scrolled": true
   },
   "outputs": [
    {
     "name": "stdout",
     "output_type": "stream",
     "text": [
      "['adj_close' 'close' 'high' 'label_price' 'low' 'open' 'volume'\n",
      " 'volume_delta' 'open_-2_r' 'middle' 'cr' 'cr-ma1' 'cr-ma2' 'cr-ma3'\n",
      " 'cr-ma1_20_c' 'cr-ma2_xu_cr-ma1_20_c' 'volume_-3_s' 'volume_-1_s'\n",
      " 'volume_2_s' 'volume_-3,2,-1_max' 'volume_-2_s' 'volume_0_s' 'volume_1_s'\n",
      " 'volume_-3~1_min' 'rsv_9' 'kdjk_9' 'kdjk' 'kdjd_9' 'kdjd' 'kdjj_9' 'kdjj'\n",
      " 'close_2_sma' 'close_5_sma' 'close_20_sma' 'close_50_sma' 'close_200_sma'\n",
      " 'close_-1_s' 'close_-1_d' 'rs_6' 'rsi_6' 'rs_12' 'rsi_12' 'wr_10' 'wr_6'\n",
      " 'middle_14_sma' 'cci' 'middle_20_sma' 'cci_20' 'tr' 'atr' 'close_10_sma'\n",
      " 'dma' 'high_delta' 'um' 'low_delta' 'dm' 'pdm' 'pdm_14_ema' 'pdm_14'\n",
      " 'atr_14' 'pdi_14' 'pdi' 'mdm' 'mdm_14_ema' 'mdm_14' 'mdi_14' 'mdi'\n",
      " 'dx_14' 'dx' 'dx_6_ema' 'adx' 'adx_6_ema' 'adxr' 'trix' 'trix_9_sma'\n",
      " 'change' 'vr' 'vr_6_sma' 'close_12_ema' 'close_26_ema' 'macd' 'macds'\n",
      " 'macdh' 'close_20_mstd' 'boll' 'boll_ub' 'boll_lb']\n"
     ]
    },
    {
     "data": {
      "text/plain": [
       "<matplotlib.axes._subplots.AxesSubplot at 0x2666d24f6d8>"
      ]
     },
     "execution_count": 24,
     "metadata": {},
     "output_type": "execute_result"
    },
    {
     "data": {
      "image/png": "[encoded data removed]",
      "text/plain": [
       "<Figure size 432x288 with 1 Axes>"
      ]
     },
     "metadata": {
      "needs_background": "light"
     },
     "output_type": "display_data"
    }
   ],
   "source": [
    "print(dataframe.columns.get_values())\n",
    "sp_close_series = dataframe.close\n",
    "sp_close_series.plot()\n",
    "sp_sma_series_50 = dataframe.close_50_sma  \n",
    "sp_sma_series_50.plot()\n",
    "sp_sma_series_200 = dataframe.close_200_sma  \n",
    "sp_sma_series_200.plot()"
   ]
  },
  {
   "cell_type": "markdown",
   "metadata": {},
   "source": [
    "## Model\n",
    "We use a simple linear regression as the first model for our prediction.\n",
    "We also use pipline to do some feature tasks:\n",
    "+ Impute missing values using the mean\n",
    "+ Transform features to quadratic\n",
    "+ Fit a linear regression\n",
    "The returned performances are quit good with R^2 in range of [0.5,1]"
   ]
  },
  {
   "cell_type": "code",
   "execution_count": 21,
   "metadata": {},
   "outputs": [
    {
     "name": "stdout",
     "output_type": "stream",
     "text": [
      "MAE:  -2.2216456586842286 0.8838531561770991\n",
      "R^2: 0.7360911734764923 0.3442865172479354\n"
     ]
    }
   ],
   "source": [
    "from sklearn.pipeline import make_pipeline\n",
    "from sklearn.preprocessing import PolynomialFeatures\n",
    "from sklearn.linear_model import LinearRegression\n",
    "from sklearn.impute import SimpleImputer \n",
    "from sklearn import model_selection\n",
    "\n",
    "model = make_pipeline(SimpleImputer(strategy='mean'),\n",
    "                      PolynomialFeatures(degree=2),\n",
    "                      LinearRegression())\n",
    "\n",
    "X = dataframe.loc[:, dataframe.columns != 'label_price']\n",
    "y = dataframe.loc[:,'label_price']\n",
    "seed = 7\n",
    "kfold = model_selection.KFold(n_splits=10, random_state=seed)\n",
    "scoring = 'neg_mean_absolute_error'\n",
    "results = model_selection.cross_val_score(model, X, y, cv=kfold, scoring=scoring)\n",
    "print(\"MAE: \", results.mean(), results.std())\n",
    "scoring = 'r2'\n",
    "results = model_selection.cross_val_score(model, X, y, cv=kfold, scoring=scoring)\n",
    "print(\"R^2:\", results.mean(), results.std())"
   ]
  },
  {
   "cell_type": "code",
   "execution_count": null,
   "metadata": {},
   "outputs": [],
   "source": []
  }
 ],
 "metadata": {
  "kernelspec": {
   "display_name": "Python 3",
   "language": "python",
   "name": "python3"
  },
  "language_info": {
   "codemirror_mode": {
    "name": "ipython",
    "version": 3
   },
   "file_extension": ".py",
   "mimetype": "text/x-python",
   "name": "python",
   "nbconvert_exporter": "python",
   "pygments_lexer": "ipython3",
   "version": "3.6.7"
  }
 },
 "nbformat": 4,
 "nbformat_minor": 2
}
